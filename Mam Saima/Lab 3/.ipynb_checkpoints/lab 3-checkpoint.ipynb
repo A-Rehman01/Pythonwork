{
 "cells": [
  {
   "cell_type": "code",
   "execution_count": 6,
   "metadata": {},
   "outputs": [
    {
     "name": "stdout",
     "output_type": "stream",
     "text": [
      "Q1: Print numbers 1 to n using while loop\n",
      "1\n",
      "2\n",
      "3\n",
      "4\n",
      "5\n",
      "6\n",
      "7\n",
      "8\n",
      "9\n"
     ]
    }
   ],
   "source": [
    "print(\"Q1: Print numbers 1 to n using while loop\")\n",
    "n=1\n",
    "while(n>0):\n",
    "    print(n)\n",
    "    n+=1"
   ]
  },
  {
   "cell_type": "code",
   "execution_count": 5,
   "metadata": {},
   "outputs": [
    {
     "name": "stdout",
     "output_type": "stream",
     "text": [
      "Q2: Print Even and Odd Series\n",
      "Even 0\n",
      "odd  1\n",
      "Even 2\n",
      "odd  3\n",
      "Even 4\n",
      "odd  5\n",
      "Even 6\n",
      "odd  7\n",
      "Even 8\n",
      "odd  9\n"
     ]
    }
   ],
   "source": [
    "print(\"Q2: Print Even and Odd Series\")\n",
    "n=0\n",
    "while(n>-1):\n",
    "    if(n%2==0):\n",
    "        print(\"Even\",n)\n",
    "    else:\n",
    "        print(\"odd \",n)\n",
    "    n=n+1\n",
    "    if(n==10):\n",
    "        break"
   ]
  },
  {
   "cell_type": "code",
   "execution_count": 17,
   "metadata": {},
   "outputs": [
    {
     "name": "stdout",
     "output_type": "stream",
     "text": [
      "Q3: Print natural numbers in reverse\n",
      "Enter Number 33\n",
      "33\n",
      "32\n",
      "31\n",
      "30\n",
      "29\n",
      "28\n",
      "27\n",
      "26\n",
      "25\n",
      "24\n",
      "23\n",
      "22\n",
      "21\n",
      "20\n",
      "19\n",
      "18\n",
      "17\n",
      "16\n",
      "15\n",
      "14\n",
      "13\n",
      "12\n",
      "11\n",
      "10\n",
      "9\n",
      "8\n",
      "7\n",
      "6\n",
      "5\n",
      "4\n",
      "3\n",
      "2\n",
      "1\n"
     ]
    }
   ],
   "source": [
    "print(\"Q3: Print natural numbers in reverse\")\n",
    "no=int(input(\"Enter Number \"))\n",
    "no=no+1\n",
    "for a in reversed(range(1,no)):\n",
    "    print(a)"
   ]
  },
  {
   "cell_type": "code",
   "execution_count": 26,
   "metadata": {},
   "outputs": [
    {
     "name": "stdout",
     "output_type": "stream",
     "text": [
      "Q4: Program to find Fictorial\n",
      "Enter Number7\n",
      "5040\n"
     ]
    }
   ],
   "source": [
    "print(\"Q4: Program to find Fictorial\")\n",
    "no=int(input(\"Enter Number\"))\n",
    "temp=1\n",
    "while(no>=1):\n",
    "    temp=temp*no\n",
    "    no=no-1\n",
    "print(temp)    \n",
    "\n",
    "    "
   ]
  },
  {
   "cell_type": "code",
   "execution_count": 30,
   "metadata": {},
   "outputs": [
    {
     "name": "stdout",
     "output_type": "stream",
     "text": [
      "Q6: Progam to tell leap year\n",
      "Enter a Year 2019\n",
      "This 2019 is not leap year\n"
     ]
    }
   ],
   "source": [
    "print(\"Q6: Progam to tell leap year\")\n",
    "year=int(input(\"Enter a Year \"))\n",
    "if(year%4==0):\n",
    "    print(\"This\",year,\"is leap year\")\n",
    "else:\n",
    "    print(\"This\",year,\"is not leap year\")"
   ]
  },
  {
   "cell_type": "code",
   "execution_count": 36,
   "metadata": {},
   "outputs": [
    {
     "name": "stdout",
     "output_type": "stream",
     "text": [
      "Q7: Program to calculate Variance, Standard Daviation, Mean\n",
      "Mean 19.843\n",
      "Standard Daviation 22.408\n",
      "Variance 502.106\n"
     ]
    }
   ],
   "source": [
    "import statistics\n",
    "print(\"Q7: Program to calculate Variance, Standard Daviation, Mean\")\n",
    "Sample=[2,41,5,3,32,.9,55]\n",
    "print(\"Mean\",round(statistics.mean(Sample),3))\n",
    "print(\"Standard Daviation\",round(statistics.stdev(Sample),3))\n",
    "print(\"Variance\",round(statistics.variance(Sample),3))\n"
   ]
  },
  {
   "cell_type": "code",
   "execution_count": 41,
   "metadata": {},
   "outputs": [
    {
     "name": "stdout",
     "output_type": "stream",
     "text": [
      "Q8: Program to print Table\n",
      "Enter Table no 88\n",
      "88 x 1 = 88\n",
      "88 x 2 = 176\n",
      "88 x 3 = 264\n",
      "88 x 4 = 352\n",
      "88 x 5 = 440\n",
      "88 x 6 = 528\n",
      "88 x 7 = 616\n",
      "88 x 8 = 704\n",
      "88 x 9 = 792\n",
      "88 x 10 = 880\n"
     ]
    }
   ],
   "source": [
    "print(\"Q8: Program to print Table\")\n",
    "no=int(input(\"Enter Table no \"))\n",
    "n=1\n",
    "while(n<=10):\n",
    "    print(no,\"x\",n,\"=\",no*n)\n",
    "    n=n+1"
   ]
  }
 ],
 "metadata": {
  "kernelspec": {
   "display_name": "Python 3",
   "language": "python",
   "name": "python3"
  },
  "language_info": {
   "codemirror_mode": {
    "name": "ipython",
    "version": 3
   },
   "file_extension": ".py",
   "mimetype": "text/x-python",
   "name": "python",
   "nbconvert_exporter": "python",
   "pygments_lexer": "ipython3",
   "version": "3.7.4"
  }
 },
 "nbformat": 4,
 "nbformat_minor": 2
}
