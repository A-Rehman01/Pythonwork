{
 "cells": [
  {
   "cell_type": "code",
   "execution_count": null,
   "metadata": {},
   "outputs": [
    {
     "name": "stdout",
     "output_type": "stream",
     "text": [
      "Q1: Program to Print largest number\n"
     ]
    }
   ],
   "source": [
    "print(\"Q1: Program to Print largest number\")\n",
    "number1=int(input(\"Enter 1st number\"))\n",
    "number2=int(input(\"Enter 2nd number\"))\n",
    "if(number1>number2):\n",
    "    print(\"Largest number is\",number1)\n",
    "else:\n",
    "    print(\"Largest number is\",number2)"
   ]
  },
  {
   "cell_type": "code",
   "execution_count": null,
   "metadata": {},
   "outputs": [],
   "source": [
    "print(\"Q2: Program to tell Positive/Negative\")\n",
    "number1=int(input(\"Enter 1st number\"))\n",
    "if(number1>=0):\n",
    "    print(\"Number\",number1,\"positive\")\n",
    "else:\n",
    "    print(\"Number\",number1,\"negative\")"
   ]
  },
  {
   "cell_type": "code",
   "execution_count": null,
   "metadata": {},
   "outputs": [],
   "source": [
    "print(\"Q3: Program to tell Number >100\")\n",
    "number1=int(input(\"Enter 1st number\"))\n",
    "if(number1>100):\n",
    "    print(\"Number is greater than 100\")\n",
    "else:\n",
    "    print(\"Number is not greater than 100\")"
   ]
  },
  {
   "cell_type": "code",
   "execution_count": null,
   "metadata": {},
   "outputs": [],
   "source": [
    "print(\"Q4: Program to tell ODD/EVEN\")\n",
    "number1=int(input(\"Enter 1st Number \"))\n",
    "if(number1==0):\n",
    "    print(\"Number is even\")\n",
    "elif(number1%2==0):\n",
    "    print(\"Number is even\")\n",
    "else:\n",
    "    print(\"Number is odd\")"
   ]
  },
  {
   "cell_type": "code",
   "execution_count": null,
   "metadata": {},
   "outputs": [],
   "source": [
    "print(\"Q5: Program to tell divisible by 5\")\n",
    "number1=int(input(\"Enter 1st Number \"))\n",
    "if(number1%5==0):\n",
    "    print(\"Number is divisible by 5\")\n",
    "else:\n",
    "    print(\"Number not is divisible by 5\")"
   ]
  },
  {
   "cell_type": "code",
   "execution_count": null,
   "metadata": {},
   "outputs": [],
   "source": [
    "print(\"Q6: Program to tell Multiplication of 7\")\n",
    "number1=int(input(\"Enter 1st Number \"))\n",
    "if(number1%7==0):\n",
    "    print(\"Number is Multiplication of 7\")\n",
    "else:\n",
    "    print(\"Number not is Multiplication of 7\")"
   ]
  },
  {
   "cell_type": "code",
   "execution_count": null,
   "metadata": {},
   "outputs": [],
   "source": [
    "print(\"Q7: Program to campare two numbers\")\n",
    "number1=int(input(\"Enter 1st number \"))\n",
    "number2=int(input(\"Enter 2nd number \"))\n",
    "if(number1>number2):\n",
    "    print(number1,\"Geater than\",number2)\n",
    "elif(number1<number2):\n",
    "    print(number1,\"less than\",number2)\n",
    "else:\n",
    "    print(number1,\"and\",number2,\"both are equall\")"
   ]
  },
  {
   "cell_type": "code",
   "execution_count": null,
   "metadata": {},
   "outputs": [],
   "source": [
    "print(\"Q8: Program to print Grades\")\n",
    "rollno=int(input(\"Enter your Roll number \"))\n",
    "Total=300\n",
    "sub1=int(input(\"Enter number Subject 1 out of 100 = \"))\n",
    "sub2=int(input(\"Enter number Subject 2 out of 100 = \"))\n",
    "sub3=int(input(\"Enter number Subject 3 out of 100 = \"))\n",
    "obt=sub1+sub2+sub3\n",
    "per=(obt/Total)*100\n",
    "print(\"Roll No= \",rollno)\n",
    "print(\"Average= \",per)\n",
    "print(\"Obtained= \",obt,\"out of 300\")\n",
    "if(per>=80):\n",
    "    print(\"A+ Grade\")\n",
    "elif(per>=70):\n",
    "    print(\"A Grade\")\n",
    "elif(per>=60):\n",
    "    print(\"B Grade\")\n",
    "elif(per>=50):\n",
    "    print(\"C Grade\")\n",
    "else:\n",
    "    print(\"Fial\")"
   ]
  },
  {
   "cell_type": "code",
   "execution_count": null,
   "metadata": {},
   "outputs": [],
   "source": [
    "print(\"Q9: Program to convert age in Days and years\")\n",
    "year=int(input(\"Enter your age \"))\n",
    "month=year*12\n",
    "days=year*365\n",
    "print(\"Your age=\",year,\"Months=\",month,\"Days=\",days)"
   ]
  },
  {
   "cell_type": "code",
   "execution_count": null,
   "metadata": {},
   "outputs": [],
   "source": [
    "print(\"Q10: Program to print Month\")\n",
    "no=int(input(\"Enter Number \"))\n",
    "if(no==1):\n",
    "    print(\"Janvary\")\n",
    "elif(no==2):\n",
    "    print(\"February\")\n",
    "elif(no==3):\n",
    "    print(\"March\")\n",
    "elif(no==4):\n",
    "    print(\"April\")\n",
    "elif(no==5):\n",
    "    print(\"May\")\n",
    "elif(no==6):\n",
    "    print(\"June\")\n",
    "elif(no==7):\n",
    "    print(\"July\")\n",
    "elif(no==8):\n",
    "    print(\"Augest\")\n",
    "elif(no==9):\n",
    "    print(\"September\")\n",
    "elif(no==10):\n",
    "    print(\"Octuber\")\n",
    "elif(no==11):\n",
    "    print(\"November\")\n",
    "elif(no==12):\n",
    "    print(\"December\")\n",
    "else:\n",
    "    print(\"invalid\")"
   ]
  }
 ],
 "metadata": {
  "kernelspec": {
   "display_name": "Python 3",
   "language": "python",
   "name": "python3"
  },
  "language_info": {
   "codemirror_mode": {
    "name": "ipython",
    "version": 3
   },
   "file_extension": ".py",
   "mimetype": "text/x-python",
   "name": "python",
   "nbconvert_exporter": "python",
   "pygments_lexer": "ipython3",
   "version": "3.7.4"
  }
 },
 "nbformat": 4,
 "nbformat_minor": 2
}
