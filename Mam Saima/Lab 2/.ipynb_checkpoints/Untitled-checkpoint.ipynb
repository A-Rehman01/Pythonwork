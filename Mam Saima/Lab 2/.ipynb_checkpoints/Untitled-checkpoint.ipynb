{
 "cells": [
  {
   "cell_type": "code",
   "execution_count": 4,
   "metadata": {},
   "outputs": [
    {
     "name": "stdout",
     "output_type": "stream",
     "text": [
      "Q9: Program to convert age in Days and years\n",
      "Enter your age 2\n",
      "Your age= 2 Months= 24 Days= 730\n"
     ]
    }
   ],
   "source": [
    "print(\"Q9: Program to convert age in Days and years\")\n",
    "year=int(input(\"Enter your age \"))\n",
    "month=year*12\n",
    "days=year*365\n",
    "print(\"Your age=\",year,\"Months=\",month,\"Days=\",days)"
   ]
  },
  {
   "cell_type": "code",
   "execution_count": 12,
   "metadata": {},
   "outputs": [
    {
     "name": "stdout",
     "output_type": "stream",
     "text": [
      "Q10: Program to print Month\n",
      "Enter Number 22\n",
      "invalid\n"
     ]
    }
   ],
   "source": [
    "print(\"Q10: Program to print Month\")\n",
    "no=int(input(\"Enter Number \"))\n",
    "if(no==1):\n",
    "    print(\"Janvary\")\n",
    "elif(no==2):\n",
    "    print(\"February\")\n",
    "elif(no==3):\n",
    "    print(\"March\")\n",
    "elif(no==4):\n",
    "    print(\"April\")\n",
    "elif(no==5):\n",
    "    print(\"May\")\n",
    "elif(no==6):\n",
    "    print(\"June\")\n",
    "elif(no==7):\n",
    "    print(\"July\")\n",
    "elif(no==8):\n",
    "    print(\"Augest\")\n",
    "elif(no==9):\n",
    "    print(\"September\")\n",
    "elif(no==10):\n",
    "    print(\"Octuber\")\n",
    "elif(no==11):\n",
    "    print(\"November\")\n",
    "elif(no==12):\n",
    "    print(\"December\")\n",
    "else:\n",
    "    print(\"invalid\")"
   ]
  },
  {
   "cell_type": "code",
   "execution_count": 13,
   "metadata": {},
   "outputs": [
    {
     "name": "stdout",
     "output_type": "stream",
     "text": [
      "Q3: Program to tell Number >100\n",
      "Enter 1st number22\n",
      "Number is not greater than 100\n"
     ]
    }
   ],
   "source": [
    "print(\"Q3: Program to tell Number >100\")\n",
    "number1=int(input(\"Enter 1st number\"))\n",
    "if(number1>100):\n",
    "    print(\"Number is greater than 100\")\n",
    "else:\n",
    "    print(\"Number is not greater than 100\")"
   ]
  }
 ],
 "metadata": {
  "kernelspec": {
   "display_name": "Python 3",
   "language": "python",
   "name": "python3"
  },
  "language_info": {
   "codemirror_mode": {
    "name": "ipython",
    "version": 3
   },
   "file_extension": ".py",
   "mimetype": "text/x-python",
   "name": "python",
   "nbconvert_exporter": "python",
   "pygments_lexer": "ipython3",
   "version": "3.7.4"
  }
 },
 "nbformat": 4,
 "nbformat_minor": 2
}
