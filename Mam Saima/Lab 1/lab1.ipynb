{
 "cells": [
  {
   "cell_type": "code",
   "execution_count": 1,
   "metadata": {},
   "outputs": [
    {
     "name": "stdout",
     "output_type": "stream",
     "text": [
      "Q1 Find Area of the Circle\n",
      "Enter Radius 2\n",
      "Area of the Circle is  12.568\n"
     ]
    }
   ],
   "source": [
    "pie=3.142\n",
    "print(\"Q1: Find Area of the Circle\")\n",
    "radius=input(\"Enter Radius \") \n",
    "radius=float(radius)\n",
    "print(\"Area of the Circle is \",pie*radius*radius)"
   ]
  },
  {
   "cell_type": "code",
   "execution_count": 3,
   "metadata": {},
   "outputs": [
    {
     "name": "stdout",
     "output_type": "stream",
     "text": [
      "Q2 Find the Area of Triangle\n",
      "Enter the base of triangle4\n",
      "Enter the height of triangle3.3\n",
      "Area of the Triangle is 6.6\n"
     ]
    }
   ],
   "source": [
    "print(\"Q2: Find the Area of Triangle\")\n",
    "Base=input(\"Enter the base of triangle \")\n",
    "Base=float(Base)\n",
    "Height=input(\"Enter the height of triangle \")\n",
    "Height=float(Height)\n",
    "print(\"Area of the Triangle is\",Base*Height*0.5)"
   ]
  },
  {
   "cell_type": "code",
   "execution_count": 13,
   "metadata": {},
   "outputs": [
    {
     "name": "stdout",
     "output_type": "stream",
     "text": [
      "Q3 Find the Cube and Square of a Number\n",
      "Enter a number 2\n",
      "Square of 2 is 4 \n",
      "Cube of 2 is 8\n"
     ]
    }
   ],
   "source": [
    "print(\"Q3: Find the Cube and Square of a Number\")\n",
    "Number=input(\"Enter a number \")\n",
    "Number=int(Number)\n",
    "print( \"Square of\",Number,\"is\",Number*Number,\"\\nCube of\",Number,\"is\",Number*Number*Number)"
   ]
  },
  {
   "cell_type": "code",
   "execution_count": 11,
   "metadata": {},
   "outputs": [
    {
     "name": "stdout",
     "output_type": "stream",
     "text": [
      "Q4 Interchange the Values of two variables\n",
      "Enter 1 Value 2\n",
      "Enter 2 Value 3\n",
      "Your 1 Value is 3 \n",
      "Your 2 Value is 2\n"
     ]
    }
   ],
   "source": [
    "print(\"Q4: Interchange the Values of two variables\")\n",
    "var1=input(\"Enter 1 Value \")\n",
    "var2=input(\"Enter 2 Value \")\n",
    "#we need third variable here\n",
    "var3=var1\n",
    "var1=var2\n",
    "var2=var3\n",
    "print(\"Your 1 Value is\",var1,\"\\nYour 2 Value is\",var2)"
   ]
  },
  {
   "cell_type": "code",
   "execution_count": 33,
   "metadata": {
    "collapsed": true
   },
   "outputs": [
    {
     "name": "stdout",
     "output_type": "stream",
     "text": [
      "Q3 Convert the Expression in Programming language\n",
      "\n",
      "1. 1/2x^2+sin(x+y)\n",
      "Ans 3.5410757253368614\n",
      "2. Squarerootof(x^2+y^2)\n",
      "Ans 3.606\n",
      "3. (2+2ab+3^3)\n",
      "Ans 41.0\n",
      "3. (-2^3+9)\n",
      "Ans 1.0\n",
      "4. (3*2/3)\n",
      "Ans 2.0\n",
      "5. ((2/3)^2 *5)*(3-4^3)^2\n",
      "Ans 8268.888888888889\n",
      "6. (3*(3*4-2*5^2-3))\n",
      "Ans -123.0\n"
     ]
    }
   ],
   "source": [
    "import math\n",
    "\n",
    "print(\"Q5: Convert the Expression in Programming language\")\n",
    "\n",
    "print(\"\\n1. 1/2x^2+sin(x+y)\")\n",
    "x=3\n",
    "y=2\n",
    "print(\"Ans\",0.5*math.pow(x,2)+math.sin(x+y))\n",
    "\n",
    "print(\"2. Squarerootof(x^2+y^2)\")\n",
    "x=3\n",
    "y=2\n",
    "print(\"Ans\",round(math.sqrt(math.pow(x,2)+math.pow(y,2)),3))\n",
    "\n",
    "print(\"3. (2+2ab+3^3)\")\n",
    "a=3\n",
    "b=2\n",
    "print(\"Ans\",2+2*a*b+math.pow(3,3))\n",
    "\n",
    "print(\"3. (-2^3+9)\")\n",
    "print(\"Ans\",math.pow(-2,3)+9)\n",
    "\n",
    "print(\"4. (3*2/3)\")\n",
    "x=3\n",
    "y=2/x\n",
    "print(\"Ans\",x*y)\n",
    "\n",
    "print(\"5. ((2/3)^2 *5)*(3-4^3)^2\")\n",
    "print(\"Ans\",(math.pow(2/3,2)*5)*(math.pow(3-math.pow(4,3),2)))\n",
    "\n",
    "print(\"6. (3*(3*4-2*5^2-3))\")\n",
    "print(\"Ans\",3*(3*4-2*math.pow(5,2)-3))"
   ]
  },
  {
   "cell_type": "code",
   "execution_count": 41,
   "metadata": {},
   "outputs": [
    {
     "name": "stdout",
     "output_type": "stream",
     "text": [
      "Q6: Calculate the formulas\n",
      "\n",
      "1.Average of 1,2,8,4,2,8,11,4\n",
      "Ans.Aerage 5.0\n",
      "\n",
      "2.Mid point\n",
      "Starting point of line\n",
      "Enter x axix 2\n",
      "Enter y axix 3\n",
      "Ending point of line\n",
      "Enter x axix 4\n",
      "Enter y axix 5\n",
      "Ans. Midpoint 5.0\n",
      "\n",
      " Quadratic Formula\n",
      "Enter values of a,b,c\n",
      "a=? 5\n",
      "b=? 4\n",
      "c=? 4\n",
      "Ans. Root1= (-0.4+0.8j) Root2= (-0.4-0.8j)\n"
     ]
    }
   ],
   "source": [
    "print(\"Q6: Calculate the formulas\\n\")\n",
    "\n",
    "print(\"1.Average of 1,2,8,4,2,8,11,4\")\n",
    "int_array=[1,2,8,4,2,8,11,4]\n",
    "T_No=len(int_array)\n",
    "T_sum=sum(int_array)\n",
    "print(\"Ans.Aerage\",T_sum/T_No)\n",
    "\n",
    "print(\"\\n2.Mid point\")\n",
    "print(\"Starting point of line\")\n",
    "st_x=input(\"Enter x axix \")\n",
    "st_x=float(st_x)\n",
    "st_y=input(\"Enter y axix \")\n",
    "st_y=float(st_y)\n",
    "print(\"Ending point of line\")\n",
    "st_x2=input(\"Enter x axix \")\n",
    "st_x2=float(st_x)\n",
    "st_y2=input(\"Enter y axix \")\n",
    "st_y2=float(st_y)\n",
    "print(\"Ans. Midpoint\",((st_x2+st_x)/2+(st_y2+st_y)/2)) \n",
    "\n",
    "import cmath\n",
    "print(\"\\n3.Quadratic Formula\")\n",
    "print(\"Enter values of a,b,c\")\n",
    "a=input(\"a=? \")\n",
    "a=int(a)\n",
    "b=input(\"b=? \")\n",
    "b=int(b)\n",
    "c=input(\"c=? \")\n",
    "c=int(c)\n",
    "\n",
    "d=(b*b)-(4*a*c)\n",
    "\n",
    "root1=(-b+cmath.sqrt(d))/(2*a)\n",
    "root2=(-b-cmath.sqrt(d))/(2*a)\n",
    "print(\"Ans. Root1=\",root1,\"Root2=\",root2)\n",
    "\n"
   ]
  },
  {
   "cell_type": "code",
   "execution_count": 45,
   "metadata": {},
   "outputs": [
    {
     "name": "stdout",
     "output_type": "stream",
     "text": [
      "Q7: Calculates the following Areas\n",
      "\n",
      "1.Area of Rectange\n",
      "Enter width 4\n",
      "Enter height 3\n",
      "Ans. 12.0\n",
      "\n",
      "2.Area of Parallelogram\n",
      "Length of base 3\n",
      "Measurement of height 3\n",
      "Ans. 9.0\n",
      "\n",
      "3.Circumference of a Circle\n",
      "Enter the radius of a circle4\n",
      "Ans. 25.136\n"
     ]
    }
   ],
   "source": [
    "print(\"Q7: Calculates the following Areas\\n\")\n",
    "\n",
    "print(\"1.Area of Rectange\")\n",
    "width=input(\"Enter width \")\n",
    "width=float(width)\n",
    "height=input(\"Enter height \")\n",
    "height=float(height)\n",
    "print(\"Ans.\",width*height)\n",
    "\n",
    "print(\"\\n2.Area of Parallelogram\")\n",
    "base = float(input(\"Length of base \"))\n",
    "height = float(input(\"Measurement of height \"))\n",
    "area = base * height\n",
    "print(\"Ans.\", area)\n",
    "\n",
    "print(\"\\n3.Circumference of a Circle \")\n",
    "pi=3.142\n",
    "radius=float(input(\"Enter the radius of a circle\"))\n",
    "print(\"Ans.\",2*pi*radius)"
   ]
  },
  {
   "cell_type": "code",
   "execution_count": 47,
   "metadata": {},
   "outputs": [
    {
     "name": "stdout",
     "output_type": "stream",
     "text": [
      "7. Find perimeter of a bedroom\n",
      "\n",
      "Enter width and Height in ft\n",
      "width=? 3\n",
      "Height=? 3\n",
      "Ans. Perimeter of bedroom 12\n"
     ]
    }
   ],
   "source": [
    "print(\"Q8: Find perimeter of a bedroom\")\n",
    "print(\"\\nEnter width and Height in ft\")\n",
    "width=int(input(\"width=? \"))\n",
    "Height=int(input(\"Height=? \"))\n",
    "Ans=2*(width+Height)\n",
    "print(\"Ans. Perimeter of bedroom\",Ans)"
   ]
  }
 ],
 "metadata": {
  "kernelspec": {
   "display_name": "Python 3",
   "language": "python",
   "name": "python3"
  },
  "language_info": {
   "codemirror_mode": {
    "name": "ipython",
    "version": 3
   },
   "file_extension": ".py",
   "mimetype": "text/x-python",
   "name": "python",
   "nbconvert_exporter": "python",
   "pygments_lexer": "ipython3",
   "version": "3.7.4"
  }
 },
 "nbformat": 4,
 "nbformat_minor": 2
}
